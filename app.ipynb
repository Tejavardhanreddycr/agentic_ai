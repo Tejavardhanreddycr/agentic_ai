{
 "cells": [
  {
   "cell_type": "code",
   "execution_count": 2,
   "id": "43bd11fc",
   "metadata": {},
   "outputs": [
    {
     "data": {
      "text/plain": [
       "<sqlite3.Cursor at 0x10547b2d0>"
      ]
     },
     "execution_count": 2,
     "metadata": {},
     "output_type": "execute_result"
    }
   ],
   "source": [
    "import sqlite3\n",
    "\n",
    "# Connect to the database\n",
    "conn = sqlite3.connect('bengaluru_restaurants.db')\n",
    "cursor = conn.cursor()\n",
    "\n",
    "cursor.execute('''\n",
    "CREATE TABLE customer_details (\n",
    "               id INTEGER PRIMARY KEY AUTOINCREMENT,\n",
    "               name TEXT,\n",
    "               phone_number TEXT,\n",
    "               email TEXT)\n",
    "'''\n",
    ")"
   ]
  },
  {
   "cell_type": "code",
   "execution_count": null,
   "id": "341a7960",
   "metadata": {},
   "outputs": [
    {
     "name": "stdout",
     "output_type": "stream",
     "text": [
      "✅ Exported 20 unique restaurant locations to 'restaurant_locations_export.csv'\n"
     ]
    }
   ],
   "source": [
    "import sqlite3\n",
    "import csv\n",
    "import random\n",
    "\n",
    "# Connect to the database\n",
    "conn = sqlite3.connect('bengaluru_restaurants.db')\n",
    "cursor = conn.cursor()\n",
    "\n",
    "# Drop existing table if present\n",
    "cursor.execute(\"DROP TABLE IF EXISTS restaurant_locations\")\n",
    "\n",
    "# Create the table (without restaurant name)\n",
    "cursor.execute('''\n",
    "CREATE TABLE restaurant_locations (\n",
    "    id INTEGER PRIMARY KEY AUTOINCREMENT,\n",
    "    cuisine_type TEXT,\n",
    "    address TEXT NOT NULL,\n",
    "    area TEXT UNIQUE,\n",
    "    pincode TEXT,\n",
    "    phone_number TEXT,\n",
    "    opening_hours TEXT,\n",
    "    veg_type TEXT CHECK(veg_type IN ('Veg', 'Non-Veg', 'Both')),\n",
    "    seats_available INTEGER DEFAULT 0,\n",
    "    booking_status TEXT DEFAULT 'Empty',\n",
    "    nearby_locations TEXT\n",
    ")\n",
    "''')\n",
    "\n",
    "# Define 20 unique locations\n",
    "areas = [\n",
    "    'Indiranagar', 'Koramangala', 'HSR Layout', 'Jayanagar', 'BTM Layout',\n",
    "    'Whitefield', 'Hebbal', 'Malleshwaram', 'Rajajinagar', 'Banashankari',\n",
    "    'Ulsoor', 'Marathahalli', 'Yelahanka', 'Sarjapur', 'Bellandur',\n",
    "    'Frazer Town', 'RT Nagar', 'Kengeri', 'Nagarbhavi', 'Vijayanagar'\n",
    "]\n",
    "\n",
    "veg_options = ['Veg', 'Non-Veg', 'Both']\n",
    "cuisine_options = ['Veg', 'Non-Veg', 'Both']\n",
    "\n",
    "# Insert 1 restaurant per location\n",
    "records = []\n",
    "for i, area in enumerate(areas):\n",
    "    cuisine_type = random.choice(cuisine_options)\n",
    "    address = f\"{100 + i*5} Example Street\"\n",
    "    pincode = f\"5600{i:02d}\"\n",
    "    phone_number = f\"080-4000-{1000 + i}\"\n",
    "    opening_hours = \"10:00 AM - 10:00 PM\"\n",
    "    veg_type = random.choice(veg_options)\n",
    "    seats = 0 if i % 5 == 0 else random.randint(20, 60)  # Set some to 0\n",
    "\n",
    "    records.append((cuisine_type, address, area, pincode, phone_number, opening_hours, veg_type, seats))\n",
    "\n",
    "# Bulk insert\n",
    "cursor.executemany('''\n",
    "    INSERT INTO restaurant_locations\n",
    "    (cuisine_type, address, area, pincode, phone_number, opening_hours, veg_type, seats_available)\n",
    "    VALUES (?, ?, ?, ?, ?, ?, ?, ?)\n",
    "''', records)\n",
    "\n",
    "# Update booking_status based on seats_available\n",
    "cursor.execute('''\n",
    "    UPDATE restaurant_locations\n",
    "    SET booking_status = CASE\n",
    "        WHEN seats_available = 0 THEN 'Booked'\n",
    "        ELSE 'Empty'\n",
    "    END\n",
    "''')\n",
    "\n",
    "# Assign 1–2 random nearby locations\n",
    "for area in areas:\n",
    "    nearby = random.sample([a for a in areas if a != area], k=random.choice([1, 2]))\n",
    "    nearby_str = ', '.join(nearby)\n",
    "    cursor.execute('''\n",
    "        UPDATE restaurant_locations\n",
    "        SET nearby_locations = ?\n",
    "        WHERE area = ?\n",
    "    ''', (nearby_str, area))\n",
    "\n",
    "# Commit changes\n",
    "conn.commit()\n",
    "\n",
    "# Export to CSV\n",
    "\n"
   ]
  },
  {
   "cell_type": "code",
   "execution_count": 44,
   "id": "e8459832",
   "metadata": {},
   "outputs": [
    {
     "name": "stdout",
     "output_type": "stream",
     "text": [
      "✅ Exported 20 unique restaurant locations to 'restaurant_locations_export.csv'\n"
     ]
    }
   ],
   "source": [
    "# Connect to the database\n",
    "conn = sqlite3.connect('bengaluru_restaurants.db')\n",
    "cursor = conn.cursor()\n",
    "cursor.execute(\"SELECT * FROM restaurant_locations\")\n",
    "rows = cursor.fetchall()\n",
    "columns = [desc[0] for desc in cursor.description]\n",
    "\n",
    "with open('restaurant_locations_export.csv', 'w', newline='', encoding='utf-8') as file:\n",
    "    writer = csv.writer(file)\n",
    "    writer.writerow(columns)\n",
    "    writer.writerows(rows)\n",
    "\n",
    "print(\"✅ Exported 20 unique restaurant locations to 'restaurant_locations_export.csv'\")\n",
    "\n",
    "# Close DB connection\n",
    "conn.close()"
   ]
  }
 ],
 "metadata": {
  "kernelspec": {
   "display_name": "env",
   "language": "python",
   "name": "python3"
  },
  "language_info": {
   "codemirror_mode": {
    "name": "ipython",
    "version": 3
   },
   "file_extension": ".py",
   "mimetype": "text/x-python",
   "name": "python",
   "nbconvert_exporter": "python",
   "pygments_lexer": "ipython3",
   "version": "3.9.6"
  }
 },
 "nbformat": 4,
 "nbformat_minor": 5
}
